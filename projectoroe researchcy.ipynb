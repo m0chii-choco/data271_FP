{
 "cells": [
  {
   "cell_type": "markdown",
   "id": "6983a757",
   "metadata": {},
   "source": [
    "# Researchy project yummy :3"
   ]
  },
  {
   "cell_type": "markdown",
   "id": "46d59baf",
   "metadata": {},
   "source": [
    "Github repo: https://github.com/m0chii-choco/data271_FP"
   ]
  },
  {
   "cell_type": "markdown",
   "id": "1a520557",
   "metadata": {},
   "source": [
    "## Introduction\n",
    "1. The I would be addressing is about Ocean pollution where each year, millions of pounds of plastic and trash enters the ocean. Some devris have sinked into the ocean and eaten by marine animals taht mistake it for food, and some are in circulating coean currents. The reason why we should be interested in this plastic pollution results in damgein to the environemt, to the health of marine aniaml life, and to economic structuers worldwide. Marine trash is surronded by all manufactured products most of them being plastic that end up ion the ocean. litteriong, storm wind, and poor waste management all contribvute to accumaltion of the debris. Common types of plastic itesm are shpping bags ,beverage bottles, cigarette butts, bottle caps, food wrappers, and fishing gear. Plastic waste is problematic as a pollutant because plastic doesn't degrade as much as other materials whcih can take multpy year to decompose.\n",
    "\n",
    "2. The ways I would plan to address the ocean Plastic pollution is caused in three ways: public awareness and education, international cooperation and consumption, and innovative technologies for clean up. For public awareness and education, implement education campaigns to raise awareness about how plastic pollution has an impact on marine ecosystems and human health. By educating people on the importance of reducing plastic use, we will help reduce plastic going into the ocean. For international cooperation, it would be necessary to work with other countries and international organizations to develop and implement strategies for addressing ocean plastic pollution. For supporting global agreements and initiatives aimed at reducing the use of plastic. The last one is innovative technology for clean-up. It would be to research and develop innovative technologies for ocean cleanup in order to pick up plastic from the ocean in a very efficient way. For example, floating barries and autonomous vessels. When we collaborate with scientists, engineers, and entrepreneurs, we will be able to scale up those operations to solve those problems.\n",
    "\n",
    "3. My current proposed approach that will address this problem, will be international cooperation the reason why is becasue if we get other countries adn international organization to implement staregeis is decrease platic production, and plastic going into the ocean, for example laws that ban certain plastic production, or education people about on how plastic pollution affect our ocean\n",
    "\n",
    "4. How my anaylsis will help the consumer of my analysis, is because the analysis prodvies aims to allow consumer by offering them to understand of ocean plastic pollution and reachable steps the consumers can take to address the issues.\n",
    "\n",
    "### Question\n",
    "1. Does the country that bans plastic or levy them have an decrease in annual plastic production \n",
    "2. Is there a correlation between Mismangement plastic, and annual plastic production. \n",
    "3. Does the publish journal help decrease plastic production and plastic waste\n",
    "\n",
    "\n",
    "## Information \n",
    "[Marine Plastic](https://www.iucn.org/resources/issues-brief/marine-plastic-pollution#:~:text=At%20least%2014%20million%20tons,causes%20severe%20injuries%20and%20death.)\n",
    "[Video: How We Can Keep Plastics Out of Our Ocean | National Geographic](https://www.youtube.com/watch?v=HQTUWK7CM-Y&pp=ygUObWFyaW5lIHBsYXN0aWM%3D)"
   ]
  },
  {
   "cell_type": "markdown",
   "id": "fcfae4c7",
   "metadata": {},
   "source": [
    "## Packages Required\n",
    "```python\n",
    "import numpy as np\n",
    "import pandas as pd\n",
    "import matplotlib.pyplot as plt\n",
    "import seaborn as sns\n",
    "import re\n",
    "```\n",
    "1. What I am going to use Pandas for is to work with datasets, where I am going to load data sets, merge datasets, clean the datasets, and expose them as well. For Seaborn, I am going to use it to plot datasets and make graphics to help explore and understand the data. The same goes for Matplotlib, but I mainly use it for lines, titles, x and y axes, scales,and coloring data. For Re, I just use it to rename the data columns to make it easier to type.\n",
    "\n",
    "\n",
    " "
   ]
  },
  {
   "cell_type": "code",
   "execution_count": 15,
   "id": "430c4864",
   "metadata": {},
   "outputs": [],
   "source": [
    "import numpy as np\n",
    "import pandas as pd\n",
    "import matplotlib.pyplot as plt\n",
    "import seaborn as sns\n",
    "import re"
   ]
  },
  {
   "cell_type": "markdown",
   "id": "06605326",
   "metadata": {},
   "source": [
    "## Data Preparation\n",
    "\n",
    "1. These are the sources where the data is obtained [Platic Pollution](https://www.kaggle.com/datasets/imtkaggleteam/plastic-pollution?select=4-+mismanaged-plastic-waste-per-capita.csv)\n",
    "[plastic policies](https://zenodo.org/records/4321588)\n",
    "```python\n",
    "gpp = pd.read_csv('1- global-plastics-production.csv')\n",
    "sgp = pd.read_csv('2- share-of-global-plastic-waste-emitted-to-the-ocean.csv')\n",
    "spf = pd.read_csv('3- share-plastic-fate.csv')\n",
    "mpw = pd.read_csv('4- mismanaged-plastic-waste-per-capita.csv')\n",
    "ppd = pd.read_csv('Plastic_Policies_Dryad.csv')\n",
    "```\n",
    "2. The Plastic Pollution Data Sets I got it from Kaggle and it contains 4 datasets. The first one is global plastic production, which shows that rapid growth in global plastic production didn’t happen until the 1950s. Over the next 70 years, however, annual production of plastics has increased nearly 230-fold to 460 million metric tons in 2019. The dataset has 4 columns: Enity, Code, and Year, where it starts in 1950 and ends in 2019. The last column is the annual plastic production in the world. The second data shows the share of global plastic waste emitted to the ocean; it shows how much of the plastic waste is mismanaged, meaning the plastic is not recycled, incinerated, or kept in sealed landfills. Mismanagement means it’s at risk of leaking into the environment. The dataset has 4 columns: Enity, which is the country; Code, which is the short version of the country name; Year, which is 1950–2019; and the last column, which is the share of global plastic production. The third dataset is the share of plastic fate, which is similar to the second data set but shows the share of plastic waste being recycled, inserted, mismanaged, and in landfills. These columns tell us what percentage of plastic is being recycled, incinerated, mismanaged, and disposed of in landfills. The fourth dataset shows the mismanaged plastic waste per capita, where the dataset has 4 columns: entity, which is the country; code, which is the short version of the country name; year, which is 1950–2019; and last column, mismanaged plastic. The plastic policy dataset I got it from the Zenodo.org website, where it shows the countries that have either banned or levied certain plastics from ever producing\n",
    "\n",
    "3. Most of the dataset had no Null variables besides the share plastic fate dataset. In this data set there was 160 null variables in the code column so, the goal is I want to replace those Null variables in code column into letter codes for those countries. In order for me to do that I would have to make a dictionary where I woiuld hand pick the varibles in the enity column that had Null variables in the Code columns, for example Oceaina about be OCE for code columns. Once I pick for every variable with a null value in the Code column I would make a for loop where it will check if there are null variables then if the dictonary key was equal to entity variable it would replace that null variable to the value.\n",
    "\n",
    "\n",
    "```python\n",
    "codey = {\"Americas (excl. USA)\": 'AME', 'Asia (excl. China and India)': 'ASI', 'Europe': 'EUR', 'Middle East & North Africa': \"MENA\",\n",
    "        'Oceania':'OCE', 'Sub-Saharan Africa':'EWH'}\n",
    "\n",
    "for i in range(len(spf)):\n",
    "    if pd.isna(spf['Code'][i]):\n",
    "            spf.loc[i,'Code'] = codey[spf['Entity'][i]]\n",
    "spf\n",
    "```\n",
    "3. Another one that I did it is not really cleaning the data set all I did was I just merge the Mismangaged plastic waste and the share of global plastic waste. The reasoning why I did because I realized that both dataset are in the year columns they both only contain 2019 so I just merge both of them together hoping to see something idk\n",
    "```python\n",
    "y2019 = mpw.merge(sgp)\n",
    "```\n",
    "\n",
    "\n",
    "4. "
   ]
  },
  {
   "cell_type": "code",
   "execution_count": 12,
   "id": "9b016628",
   "metadata": {},
   "outputs": [
    {
     "data": {
      "text/html": [
       "<div>\n",
       "<style scoped>\n",
       "    .dataframe tbody tr th:only-of-type {\n",
       "        vertical-align: middle;\n",
       "    }\n",
       "\n",
       "    .dataframe tbody tr th {\n",
       "        vertical-align: top;\n",
       "    }\n",
       "\n",
       "    .dataframe thead th {\n",
       "        text-align: right;\n",
       "    }\n",
       "</style>\n",
       "<table border=\"1\" class=\"dataframe\">\n",
       "  <thead>\n",
       "    <tr style=\"text-align: right;\">\n",
       "      <th></th>\n",
       "      <th>Entity</th>\n",
       "      <th>Code</th>\n",
       "      <th>Year</th>\n",
       "      <th>Share of waste recycled from total regional waste</th>\n",
       "      <th>Share of waste incinerated from total regional waste</th>\n",
       "      <th>Share of littered and mismanaged from total regional waste</th>\n",
       "      <th>Share of waste landfilled from total regional waste</th>\n",
       "    </tr>\n",
       "  </thead>\n",
       "  <tbody>\n",
       "    <tr>\n",
       "      <th>0</th>\n",
       "      <td>Americas (excl. USA)</td>\n",
       "      <td>AME</td>\n",
       "      <td>2000</td>\n",
       "      <td>4.721963</td>\n",
       "      <td>1.220057</td>\n",
       "      <td>32.702644</td>\n",
       "      <td>61.355328</td>\n",
       "    </tr>\n",
       "    <tr>\n",
       "      <th>1</th>\n",
       "      <td>Americas (excl. USA)</td>\n",
       "      <td>AME</td>\n",
       "      <td>2001</td>\n",
       "      <td>4.972505</td>\n",
       "      <td>1.208672</td>\n",
       "      <td>32.651270</td>\n",
       "      <td>61.167557</td>\n",
       "    </tr>\n",
       "    <tr>\n",
       "      <th>2</th>\n",
       "      <td>Americas (excl. USA)</td>\n",
       "      <td>AME</td>\n",
       "      <td>2002</td>\n",
       "      <td>5.227469</td>\n",
       "      <td>1.197566</td>\n",
       "      <td>32.610554</td>\n",
       "      <td>60.964405</td>\n",
       "    </tr>\n",
       "    <tr>\n",
       "      <th>3</th>\n",
       "      <td>Americas (excl. USA)</td>\n",
       "      <td>AME</td>\n",
       "      <td>2003</td>\n",
       "      <td>5.482511</td>\n",
       "      <td>1.186352</td>\n",
       "      <td>32.546440</td>\n",
       "      <td>60.784700</td>\n",
       "    </tr>\n",
       "    <tr>\n",
       "      <th>4</th>\n",
       "      <td>Americas (excl. USA)</td>\n",
       "      <td>AME</td>\n",
       "      <td>2004</td>\n",
       "      <td>5.740007</td>\n",
       "      <td>1.175283</td>\n",
       "      <td>32.480970</td>\n",
       "      <td>60.603745</td>\n",
       "    </tr>\n",
       "  </tbody>\n",
       "</table>\n",
       "</div>"
      ],
      "text/plain": [
       "                 Entity Code  Year   \n",
       "0  Americas (excl. USA)  AME  2000  \\\n",
       "1  Americas (excl. USA)  AME  2001   \n",
       "2  Americas (excl. USA)  AME  2002   \n",
       "3  Americas (excl. USA)  AME  2003   \n",
       "4  Americas (excl. USA)  AME  2004   \n",
       "\n",
       "   Share of waste recycled from total regional waste   \n",
       "0                                           4.721963  \\\n",
       "1                                           4.972505   \n",
       "2                                           5.227469   \n",
       "3                                           5.482511   \n",
       "4                                           5.740007   \n",
       "\n",
       "   Share of waste incinerated from total regional waste   \n",
       "0                                           1.220057     \\\n",
       "1                                           1.208672      \n",
       "2                                           1.197566      \n",
       "3                                           1.186352      \n",
       "4                                           1.175283      \n",
       "\n",
       "   Share of littered and mismanaged from total regional waste   \n",
       "0                                          32.702644           \\\n",
       "1                                          32.651270            \n",
       "2                                          32.610554            \n",
       "3                                          32.546440            \n",
       "4                                          32.480970            \n",
       "\n",
       "   Share of waste landfilled from total regional waste  \n",
       "0                                          61.355328    \n",
       "1                                          61.167557    \n",
       "2                                          60.964405    \n",
       "3                                          60.784700    \n",
       "4                                          60.603745    "
      ]
     },
     "execution_count": 12,
     "metadata": {},
     "output_type": "execute_result"
    }
   ],
   "source": [
    "spf.head()"
   ]
  },
  {
   "cell_type": "code",
   "execution_count": 13,
   "id": "dfb6fc76",
   "metadata": {},
   "outputs": [
    {
     "data": {
      "text/html": [
       "<div>\n",
       "<style scoped>\n",
       "    .dataframe tbody tr th:only-of-type {\n",
       "        vertical-align: middle;\n",
       "    }\n",
       "\n",
       "    .dataframe tbody tr th {\n",
       "        vertical-align: top;\n",
       "    }\n",
       "\n",
       "    .dataframe thead th {\n",
       "        text-align: right;\n",
       "    }\n",
       "</style>\n",
       "<table border=\"1\" class=\"dataframe\">\n",
       "  <thead>\n",
       "    <tr style=\"text-align: right;\">\n",
       "      <th></th>\n",
       "      <th>Entity</th>\n",
       "      <th>Code</th>\n",
       "      <th>Year</th>\n",
       "      <th>Mismanaged plastic waste per capita (kg per year)</th>\n",
       "      <th>Share of global plastics emitted to ocean</th>\n",
       "    </tr>\n",
       "  </thead>\n",
       "  <tbody>\n",
       "    <tr>\n",
       "      <th>0</th>\n",
       "      <td>Africa</td>\n",
       "      <td>NaN</td>\n",
       "      <td>2019</td>\n",
       "      <td>10.465928</td>\n",
       "      <td>7.989317</td>\n",
       "    </tr>\n",
       "    <tr>\n",
       "      <th>1</th>\n",
       "      <td>Albania</td>\n",
       "      <td>ALB</td>\n",
       "      <td>2019</td>\n",
       "      <td>24.239153</td>\n",
       "      <td>0.159782</td>\n",
       "    </tr>\n",
       "    <tr>\n",
       "      <th>2</th>\n",
       "      <td>Algeria</td>\n",
       "      <td>DZA</td>\n",
       "      <td>2019</td>\n",
       "      <td>17.758995</td>\n",
       "      <td>0.589510</td>\n",
       "    </tr>\n",
       "    <tr>\n",
       "      <th>3</th>\n",
       "      <td>Angola</td>\n",
       "      <td>AGO</td>\n",
       "      <td>2019</td>\n",
       "      <td>7.445279</td>\n",
       "      <td>0.087804</td>\n",
       "    </tr>\n",
       "    <tr>\n",
       "      <th>4</th>\n",
       "      <td>Antigua and Barbuda</td>\n",
       "      <td>ATG</td>\n",
       "      <td>2019</td>\n",
       "      <td>6.463918</td>\n",
       "      <td>0.000204</td>\n",
       "    </tr>\n",
       "  </tbody>\n",
       "</table>\n",
       "</div>"
      ],
      "text/plain": [
       "                Entity Code  Year   \n",
       "0               Africa  NaN  2019  \\\n",
       "1              Albania  ALB  2019   \n",
       "2              Algeria  DZA  2019   \n",
       "3               Angola  AGO  2019   \n",
       "4  Antigua and Barbuda  ATG  2019   \n",
       "\n",
       "   Mismanaged plastic waste per capita (kg per year)   \n",
       "0                                          10.465928  \\\n",
       "1                                          24.239153   \n",
       "2                                          17.758995   \n",
       "3                                           7.445279   \n",
       "4                                           6.463918   \n",
       "\n",
       "   Share of global plastics emitted to ocean  \n",
       "0                                   7.989317  \n",
       "1                                   0.159782  \n",
       "2                                   0.589510  \n",
       "3                                   0.087804  \n",
       "4                                   0.000204  "
      ]
     },
     "execution_count": 13,
     "metadata": {},
     "output_type": "execute_result"
    }
   ],
   "source": [
    "y2019.head()"
   ]
  },
  {
   "cell_type": "code",
   "execution_count": 16,
   "id": "4f0ccdcd",
   "metadata": {},
   "outputs": [],
   "source": [
    "gpp = pd.read_csv('1- global-plastics-production.csv')\n",
    "sgp = pd.read_csv('2- share-of-global-plastic-waste-emitted-to-the-ocean.csv')\n",
    "spf = pd.read_csv('3- share-plastic-fate.csv')\n",
    "mpw = pd.read_csv('4- mismanaged-plastic-waste-per-capita.csv')\n",
    "#mppd = pd.read_csv('MP_Papers_Dryad.xls')\n",
    "ppd = pd.read_csv('Plastic_Policies_Dryad.csv')\n",
    "y2019 = mpw.merge(sgp) # mpw and sgp"
   ]
  },
  {
   "cell_type": "markdown",
   "id": "2ba68571",
   "metadata": {},
   "source": [
    "## Information about ppd\n",
    "\n",
    "This dataset shows the countrys what plastic they either ban or levy, and what year they did it."
   ]
  },
  {
   "cell_type": "code",
   "execution_count": 4,
   "id": "8c585f26",
   "metadata": {},
   "outputs": [
    {
     "name": "stdout",
     "output_type": "stream",
     "text": [
      "<class 'pandas.core.frame.DataFrame'>\n",
      "RangeIndex: 155 entries, 0 to 154\n",
      "Data columns (total 4 columns):\n",
      " #   Column   Non-Null Count  Dtype \n",
      "---  ------   --------------  ----- \n",
      " 0   Country  155 non-null    object\n",
      " 1   Year     155 non-null    int64 \n",
      " 2   Level    155 non-null    object\n",
      " 3   Type     155 non-null    object\n",
      "dtypes: int64(1), object(3)\n",
      "memory usage: 5.0+ KB\n"
     ]
    }
   ],
   "source": [
    "ppd.info()"
   ]
  },
  {
   "cell_type": "markdown",
   "id": "8c4f20dd",
   "metadata": {},
   "source": [
    "### Info about ppd\n",
    "\n",
    "This plot shows the types of plastic beening ban or levy from countrys "
   ]
  },
  {
   "cell_type": "code",
   "execution_count": 5,
   "id": "6dffa7f0",
   "metadata": {},
   "outputs": [
    {
     "data": {
      "image/png": "[encoded data removed]",
      "text/plain": [
       "<Figure size 640x480 with 1 Axes>"
      ]
     },
     "metadata": {},
     "output_type": "display_data"
    }
   ],
   "source": [
    "sns.countplot(ppd, x = 'Type', hue = 'Level')\n",
    "plt.title('Types of Plastic been ban or levy')\n",
    "plt.show()"
   ]
  },
  {
   "cell_type": "markdown",
   "id": "8595a546",
   "metadata": {},
   "source": [
    "## Information about gpp\n",
    "\n",
    "This dataset shows the entire worlds annual plastic production between the years 1950 and 2019 it is measure by the amount of plastic being make from facotries"
   ]
  },
  {
   "cell_type": "code",
   "execution_count": 6,
   "id": "b67e6cb9",
   "metadata": {},
   "outputs": [
    {
     "name": "stdout",
     "output_type": "stream",
     "text": [
      "<class 'pandas.core.frame.DataFrame'>\n",
      "RangeIndex: 69 entries, 0 to 68\n",
      "Data columns (total 4 columns):\n",
      " #   Column                                           Non-Null Count  Dtype \n",
      "---  ------                                           --------------  ----- \n",
      " 0   Entity                                           69 non-null     object\n",
      " 1   Code                                             69 non-null     object\n",
      " 2   Year                                             69 non-null     int64 \n",
      " 3   Annual plastic production between 1950 and 2019  69 non-null     int64 \n",
      "dtypes: int64(2), object(2)\n",
      "memory usage: 2.3+ KB\n"
     ]
    }
   ],
   "source": [
    "gpp.info()\n",
    "#There are no null variables in dataset global-plastics-production"
   ]
  },
  {
   "cell_type": "markdown",
   "id": "e21d73e8",
   "metadata": {},
   "source": [
    "### Insights about the gpp\n",
    "This plot shows the global annual plastic production between the years 1950 and 2019. What the line represents are the years when countries decided to ban certain plastics in production in order to decrease plastic production. But as you can see from the graph, the ban on plastic production has not been able to decrease the annual plastic production. Besides, at one point in the year 2007, there was a small spike decrease, but after 2009, it went back up. "
   ]
  },
  {
   "cell_type": "code",
   "execution_count": 7,
   "id": "a51f7820",
   "metadata": {},
   "outputs": [
    {
     "data": {
      "image/png": "[encoded data removed]",
      "text/plain": [
       "<Figure size 640x480 with 1 Axes>"
      ]
     },
     "metadata": {},
     "output_type": "display_data"
    }
   ],
   "source": [
    "ax = sns.lineplot(gpp, x = 'Year',y = 'Annual plastic production between 1950 and 2019')\n",
    "ax.axvline(x = 1999, ymin = 0, ymax = 1, color = 'red')\n",
    "ax.axvline(x = 2019, ymin = 0, ymax = 1, color = 'red')\n",
    "ax.axvline(x = 2008, ymin = 0, ymax = 1, color = 'blue')\n",
    "\n",
    "plt.title('Annual plastic production between 1950 and 2019')\n",
    "plt.show()"
   ]
  },
  {
   "cell_type": "markdown",
   "id": "978ee678",
   "metadata": {},
   "source": [
    "## share-plastic-fate"
   ]
  },
  {
   "cell_type": "code",
   "execution_count": 8,
   "id": "a1dc5f95",
   "metadata": {
    "scrolled": false
   },
   "outputs": [
    {
     "name": "stdout",
     "output_type": "stream",
     "text": [
      "<class 'pandas.core.frame.DataFrame'>\n",
      "RangeIndex: 200 entries, 0 to 199\n",
      "Data columns (total 7 columns):\n",
      " #   Column                                                      Non-Null Count  Dtype  \n",
      "---  ------                                                      --------------  -----  \n",
      " 0   Entity                                                      200 non-null    object \n",
      " 1   Code                                                        80 non-null     object \n",
      " 2   Year                                                        200 non-null    int64  \n",
      " 3   Share of waste recycled from total regional waste           200 non-null    float64\n",
      " 4   Share of waste incinerated from total regional waste        200 non-null    float64\n",
      " 5   Share of littered and mismanaged from total regional waste  200 non-null    float64\n",
      " 6   Share of waste landfilled from total regional waste         200 non-null    float64\n",
      "dtypes: float64(4), int64(1), object(2)\n",
      "memory usage: 11.1+ KB\n"
     ]
    }
   ],
   "source": [
    "spf.info()\n",
    "#there are 120 null variables in Code"
   ]
  },
  {
   "cell_type": "code",
   "execution_count": 17,
   "id": "12883f61",
   "metadata": {},
   "outputs": [
    {
     "data": {
      "text/html": [
       "<div>\n",
       "<style scoped>\n",
       "    .dataframe tbody tr th:only-of-type {\n",
       "        vertical-align: middle;\n",
       "    }\n",
       "\n",
       "    .dataframe tbody tr th {\n",
       "        vertical-align: top;\n",
       "    }\n",
       "\n",
       "    .dataframe thead th {\n",
       "        text-align: right;\n",
       "    }\n",
       "</style>\n",
       "<table border=\"1\" class=\"dataframe\">\n",
       "  <thead>\n",
       "    <tr style=\"text-align: right;\">\n",
       "      <th></th>\n",
       "      <th>Entity</th>\n",
       "      <th>Code</th>\n",
       "      <th>Year</th>\n",
       "      <th>Share of waste recycled from total regional waste</th>\n",
       "      <th>Share of waste incinerated from total regional waste</th>\n",
       "      <th>Share of littered and mismanaged from total regional waste</th>\n",
       "      <th>Share of waste landfilled from total regional waste</th>\n",
       "    </tr>\n",
       "  </thead>\n",
       "  <tbody>\n",
       "    <tr>\n",
       "      <th>0</th>\n",
       "      <td>Americas (excl. USA)</td>\n",
       "      <td>CM</td>\n",
       "      <td>2000</td>\n",
       "      <td>4.721963</td>\n",
       "      <td>1.220057</td>\n",
       "      <td>32.702644</td>\n",
       "      <td>61.355328</td>\n",
       "    </tr>\n",
       "    <tr>\n",
       "      <th>1</th>\n",
       "      <td>Americas (excl. USA)</td>\n",
       "      <td>CM</td>\n",
       "      <td>2001</td>\n",
       "      <td>4.972505</td>\n",
       "      <td>1.208672</td>\n",
       "      <td>32.651270</td>\n",
       "      <td>61.167557</td>\n",
       "    </tr>\n",
       "    <tr>\n",
       "      <th>2</th>\n",
       "      <td>Americas (excl. USA)</td>\n",
       "      <td>CM</td>\n",
       "      <td>2002</td>\n",
       "      <td>5.227469</td>\n",
       "      <td>1.197566</td>\n",
       "      <td>32.610554</td>\n",
       "      <td>60.964405</td>\n",
       "    </tr>\n",
       "    <tr>\n",
       "      <th>3</th>\n",
       "      <td>Americas (excl. USA)</td>\n",
       "      <td>CM</td>\n",
       "      <td>2003</td>\n",
       "      <td>5.482511</td>\n",
       "      <td>1.186352</td>\n",
       "      <td>32.546440</td>\n",
       "      <td>60.784700</td>\n",
       "    </tr>\n",
       "    <tr>\n",
       "      <th>4</th>\n",
       "      <td>Americas (excl. USA)</td>\n",
       "      <td>CM</td>\n",
       "      <td>2004</td>\n",
       "      <td>5.740007</td>\n",
       "      <td>1.175283</td>\n",
       "      <td>32.480970</td>\n",
       "      <td>60.603745</td>\n",
       "    </tr>\n",
       "    <tr>\n",
       "      <th>...</th>\n",
       "      <td>...</td>\n",
       "      <td>...</td>\n",
       "      <td>...</td>\n",
       "      <td>...</td>\n",
       "      <td>...</td>\n",
       "      <td>...</td>\n",
       "      <td>...</td>\n",
       "    </tr>\n",
       "    <tr>\n",
       "      <th>195</th>\n",
       "      <td>World</td>\n",
       "      <td>OWID_WRL</td>\n",
       "      <td>2015</td>\n",
       "      <td>8.164696</td>\n",
       "      <td>17.625141</td>\n",
       "      <td>24.083096</td>\n",
       "      <td>50.127070</td>\n",
       "    </tr>\n",
       "    <tr>\n",
       "      <th>196</th>\n",
       "      <td>World</td>\n",
       "      <td>OWID_WRL</td>\n",
       "      <td>2016</td>\n",
       "      <td>8.450203</td>\n",
       "      <td>18.084925</td>\n",
       "      <td>23.626896</td>\n",
       "      <td>49.837975</td>\n",
       "    </tr>\n",
       "    <tr>\n",
       "      <th>197</th>\n",
       "      <td>World</td>\n",
       "      <td>OWID_WRL</td>\n",
       "      <td>2017</td>\n",
       "      <td>8.747166</td>\n",
       "      <td>18.578430</td>\n",
       "      <td>23.199600</td>\n",
       "      <td>49.474804</td>\n",
       "    </tr>\n",
       "    <tr>\n",
       "      <th>198</th>\n",
       "      <td>World</td>\n",
       "      <td>OWID_WRL</td>\n",
       "      <td>2018</td>\n",
       "      <td>9.036769</td>\n",
       "      <td>19.083899</td>\n",
       "      <td>22.697952</td>\n",
       "      <td>49.181380</td>\n",
       "    </tr>\n",
       "    <tr>\n",
       "      <th>199</th>\n",
       "      <td>World</td>\n",
       "      <td>OWID_WRL</td>\n",
       "      <td>2019</td>\n",
       "      <td>9.292344</td>\n",
       "      <td>19.048033</td>\n",
       "      <td>22.454480</td>\n",
       "      <td>49.205143</td>\n",
       "    </tr>\n",
       "  </tbody>\n",
       "</table>\n",
       "<p>200 rows × 7 columns</p>\n",
       "</div>"
      ],
      "text/plain": [
       "                   Entity      Code  Year   \n",
       "0    Americas (excl. USA)        CM  2000  \\\n",
       "1    Americas (excl. USA)        CM  2001   \n",
       "2    Americas (excl. USA)        CM  2002   \n",
       "3    Americas (excl. USA)        CM  2003   \n",
       "4    Americas (excl. USA)        CM  2004   \n",
       "..                    ...       ...   ...   \n",
       "195                 World  OWID_WRL  2015   \n",
       "196                 World  OWID_WRL  2016   \n",
       "197                 World  OWID_WRL  2017   \n",
       "198                 World  OWID_WRL  2018   \n",
       "199                 World  OWID_WRL  2019   \n",
       "\n",
       "     Share of waste recycled from total regional waste   \n",
       "0                                             4.721963  \\\n",
       "1                                             4.972505   \n",
       "2                                             5.227469   \n",
       "3                                             5.482511   \n",
       "4                                             5.740007   \n",
       "..                                                 ...   \n",
       "195                                           8.164696   \n",
       "196                                           8.450203   \n",
       "197                                           8.747166   \n",
       "198                                           9.036769   \n",
       "199                                           9.292344   \n",
       "\n",
       "     Share of waste incinerated from total regional waste   \n",
       "0                                             1.220057     \\\n",
       "1                                             1.208672      \n",
       "2                                             1.197566      \n",
       "3                                             1.186352      \n",
       "4                                             1.175283      \n",
       "..                                                 ...      \n",
       "195                                          17.625141      \n",
       "196                                          18.084925      \n",
       "197                                          18.578430      \n",
       "198                                          19.083899      \n",
       "199                                          19.048033      \n",
       "\n",
       "     Share of littered and mismanaged from total regional waste   \n",
       "0                                            32.702644           \\\n",
       "1                                            32.651270            \n",
       "2                                            32.610554            \n",
       "3                                            32.546440            \n",
       "4                                            32.480970            \n",
       "..                                                 ...            \n",
       "195                                          24.083096            \n",
       "196                                          23.626896            \n",
       "197                                          23.199600            \n",
       "198                                          22.697952            \n",
       "199                                          22.454480            \n",
       "\n",
       "     Share of waste landfilled from total regional waste  \n",
       "0                                            61.355328    \n",
       "1                                            61.167557    \n",
       "2                                            60.964405    \n",
       "3                                            60.784700    \n",
       "4                                            60.603745    \n",
       "..                                                 ...    \n",
       "195                                          50.127070    \n",
       "196                                          49.837975    \n",
       "197                                          49.474804    \n",
       "198                                          49.181380    \n",
       "199                                          49.205143    \n",
       "\n",
       "[200 rows x 7 columns]"
      ]
     },
     "execution_count": 17,
     "metadata": {},
     "output_type": "execute_result"
    }
   ],
   "source": [
    "codey = {\"Americas (excl. USA)\": 'CM', 'Asia (excl. China and India)': 'ASI', 'Europe': 'EUR', 'Middle East & North Africa': \"MENA\",\n",
    "        'Oceania':'OCE', 'Sub-Saharan Africa':'EWH'}\n",
    "\n",
    "for i in range(len(spf)):\n",
    "    if pd.isna(spf['Code'][i]):\n",
    "            spf.loc[i,'Code'] = codey[spf['Entity'][i]]\n",
    "spf"
   ]
  },
  {
   "cell_type": "markdown",
   "id": "210b420b",
   "metadata": {},
   "source": [
    "## Function how it works\n",
    "\n",
    "is that the rec_inc does it has 3 argumetns code , code2 and df. Code and Code 2, what it does is it expects a string of letter code of the country/ continet and it makes a new data set of thoes two code .Then is makes a scatter plot where the x axis is the plastic waste recycled, and the y axis is the plastic waste that is incinerated.\n",
    "\n",
    "The second function lml"
   ]
  },
  {
   "cell_type": "code",
   "execution_count": 10,
   "id": "452d54e8",
   "metadata": {},
   "outputs": [
    {
     "data": {
      "image/png": "[encoded data removed]",
      "text/plain": [
       "<Figure size 640x480 with 1 Axes>"
      ]
     },
     "metadata": {},
     "output_type": "display_data"
    }
   ],
   "source": [
    "\" Code_pick: string -> plot\"\n",
    "\"code pick expects a string of the entiy of the code and returns a plot that shows the rec and inc waste\"\n",
    "\n",
    "def rec_inc(code, code2 ,df):\n",
    "    codex = df.loc[df['Code'].str.contains(code)]\n",
    "    codex2 = df.loc[df['Code'].str.contains(code2)]\n",
    "    fig = plt.figure()\n",
    "    sns.scatterplot(codex, x='Share of waste recycled from total regional waste', y ='Share of waste incinerated from total regional waste',\n",
    "                          label = code)\n",
    "    sns.scatterplot(codex2, x='Share of waste recycled from total regional waste', y ='Share of waste incinerated from total regional waste',\n",
    "                          label = code2)\n",
    "rec_inc('AME', 'OCE',spf)"
   ]
  },
  {
   "cell_type": "code",
   "execution_count": 18,
   "id": "1d8770b5",
   "metadata": {},
   "outputs": [
    {
     "data": {
      "image/png": "[encoded data removed]",
      "text/plain": [
       "<Figure size 640x480 with 1 Axes>"
      ]
     },
     "metadata": {},
     "output_type": "display_data"
    }
   ],
   "source": [
    "def lml (code, code2 ,df):\n",
    "    codex = df.loc[df['Code'].str.contains(code)]\n",
    "    codex2 = df.loc[df['Code'].str.contains(code2)]\n",
    "    fig = plt.figure()\n",
    "    sns.scatterplot(codex, x='Share of littered and mismanaged from total regional waste', y ='Share of waste landfilled from total regional waste',\n",
    "                          label = code)\n",
    "    sns.scatterplot(codex2, x='Share of littered and mismanaged from total regional waste', y ='Share of waste landfilled from total regional waste',\n",
    "                          label = code2)\n",
    "lml('AME', 'OCE',spf)"
   ]
  },
  {
   "cell_type": "markdown",
   "id": "fb383194",
   "metadata": {},
   "source": [
    "## information about numeric columns \n",
    "\n",
    "These histogram plots shows the distbution of plastic waste recycled, plastic waste being incinerated, littered and mismanged, and plastioc waste landfilled. "
   ]
  },
  {
   "cell_type": "code",
   "execution_count": 1,
   "id": "e20e8ed7",
   "metadata": {},
   "outputs": [
    {
     "ename": "NameError",
     "evalue": "name 'plt' is not defined",
     "output_type": "error",
     "traceback": [
      "\u001b[0;31m---------------------------------------------------------------------------\u001b[0m",
      "\u001b[0;31mNameError\u001b[0m                                 Traceback (most recent call last)",
      "Cell \u001b[0;32mIn[1], line 1\u001b[0m\n\u001b[0;32m----> 1\u001b[0m fig, ax \u001b[38;5;241m=\u001b[39m \u001b[43mplt\u001b[49m\u001b[38;5;241m.\u001b[39msubplots(\u001b[38;5;241m2\u001b[39m, \u001b[38;5;241m2\u001b[39m, figsize \u001b[38;5;241m=\u001b[39m (\u001b[38;5;241m10\u001b[39m,\u001b[38;5;241m6\u001b[39m))\n\u001b[1;32m      2\u001b[0m sns\u001b[38;5;241m.\u001b[39mhistplot(spf, x\u001b[38;5;241m=\u001b[39m\u001b[38;5;124m'\u001b[39m\u001b[38;5;124mShare of waste recycled from total regional waste\u001b[39m\u001b[38;5;124m'\u001b[39m, ax \u001b[38;5;241m=\u001b[39m ax[\u001b[38;5;241m0\u001b[39m,\u001b[38;5;241m0\u001b[39m])\n\u001b[1;32m      3\u001b[0m sns\u001b[38;5;241m.\u001b[39mhistplot(spf, x \u001b[38;5;241m=\u001b[39m\u001b[38;5;124m'\u001b[39m\u001b[38;5;124mShare of waste incinerated from total regional waste\u001b[39m\u001b[38;5;124m'\u001b[39m, ax \u001b[38;5;241m=\u001b[39m ax[\u001b[38;5;241m0\u001b[39m,\u001b[38;5;241m1\u001b[39m])\n",
      "\u001b[0;31mNameError\u001b[0m: name 'plt' is not defined"
     ]
    }
   ],
   "source": [
    "fig, ax = plt.subplots(2, 2, figsize = (10,6))\n",
    "sns.histplot(spf, x='Share of waste recycled from total regional waste', ax = ax[0,0])\n",
    "sns.histplot(spf, x ='Share of waste incinerated from total regional waste', ax = ax[0,1])\n",
    "sns.histplot(spf, x ='Share of littered and mismanaged from total regional waste', ax = ax[1,0])\n",
    "sns.histplot(spf, x ='Share of waste landfilled from total regional waste', ax = ax[1,1])\n",
    "plt.show()"
   ]
  },
  {
   "cell_type": "markdown",
   "id": "5b98a4fb",
   "metadata": {},
   "source": [
    "### Information about mpw and sgp\n",
    "Since the mpw and sgp both had very similar datasets, as in they both only collected the data in the year 2019 and have the same entity and code. So I decided to merge the two of them to figure out if there is a correlation between mismanaged plastic waste and the amount of global plastic ceded into the ocean."
   ]
  },
  {
   "cell_type": "code",
   "execution_count": 19,
   "id": "1f476a86",
   "metadata": {},
   "outputs": [
    {
     "data": {
      "text/html": [
       "<div>\n",
       "<style scoped>\n",
       "    .dataframe tbody tr th:only-of-type {\n",
       "        vertical-align: middle;\n",
       "    }\n",
       "\n",
       "    .dataframe tbody tr th {\n",
       "        vertical-align: top;\n",
       "    }\n",
       "\n",
       "    .dataframe thead th {\n",
       "        text-align: right;\n",
       "    }\n",
       "</style>\n",
       "<table border=\"1\" class=\"dataframe\">\n",
       "  <thead>\n",
       "    <tr style=\"text-align: right;\">\n",
       "      <th></th>\n",
       "      <th>entity</th>\n",
       "      <th>code</th>\n",
       "      <th>year</th>\n",
       "      <th>mismanaged_plastic_waste_per_capita__kg_per_year_</th>\n",
       "      <th>share_of_global_plastics_emitted_to_ocean</th>\n",
       "    </tr>\n",
       "  </thead>\n",
       "  <tbody>\n",
       "    <tr>\n",
       "      <th>0</th>\n",
       "      <td>Africa</td>\n",
       "      <td>NaN</td>\n",
       "      <td>2019</td>\n",
       "      <td>10.465928</td>\n",
       "      <td>7.989317</td>\n",
       "    </tr>\n",
       "    <tr>\n",
       "      <th>1</th>\n",
       "      <td>Albania</td>\n",
       "      <td>ALB</td>\n",
       "      <td>2019</td>\n",
       "      <td>24.239153</td>\n",
       "      <td>0.159782</td>\n",
       "    </tr>\n",
       "    <tr>\n",
       "      <th>2</th>\n",
       "      <td>Algeria</td>\n",
       "      <td>DZA</td>\n",
       "      <td>2019</td>\n",
       "      <td>17.758995</td>\n",
       "      <td>0.589510</td>\n",
       "    </tr>\n",
       "    <tr>\n",
       "      <th>3</th>\n",
       "      <td>Angola</td>\n",
       "      <td>AGO</td>\n",
       "      <td>2019</td>\n",
       "      <td>7.445279</td>\n",
       "      <td>0.087804</td>\n",
       "    </tr>\n",
       "    <tr>\n",
       "      <th>4</th>\n",
       "      <td>Antigua and Barbuda</td>\n",
       "      <td>ATG</td>\n",
       "      <td>2019</td>\n",
       "      <td>6.463918</td>\n",
       "      <td>0.000204</td>\n",
       "    </tr>\n",
       "    <tr>\n",
       "      <th>...</th>\n",
       "      <td>...</td>\n",
       "      <td>...</td>\n",
       "      <td>...</td>\n",
       "      <td>...</td>\n",
       "      <td>...</td>\n",
       "    </tr>\n",
       "    <tr>\n",
       "      <th>159</th>\n",
       "      <td>Venezuela</td>\n",
       "      <td>VEN</td>\n",
       "      <td>2019</td>\n",
       "      <td>23.545764</td>\n",
       "      <td>0.611359</td>\n",
       "    </tr>\n",
       "    <tr>\n",
       "      <th>160</th>\n",
       "      <td>Vietnam</td>\n",
       "      <td>VNM</td>\n",
       "      <td>2019</td>\n",
       "      <td>11.536045</td>\n",
       "      <td>2.881287</td>\n",
       "    </tr>\n",
       "    <tr>\n",
       "      <th>161</th>\n",
       "      <td>Western Sahara</td>\n",
       "      <td>ESH</td>\n",
       "      <td>2019</td>\n",
       "      <td>7.068729</td>\n",
       "      <td>0.003880</td>\n",
       "    </tr>\n",
       "    <tr>\n",
       "      <th>162</th>\n",
       "      <td>Yemen</td>\n",
       "      <td>YEM</td>\n",
       "      <td>2019</td>\n",
       "      <td>10.004012</td>\n",
       "      <td>0.025729</td>\n",
       "    </tr>\n",
       "    <tr>\n",
       "      <th>163</th>\n",
       "      <td>Zimbabwe</td>\n",
       "      <td>ZWE</td>\n",
       "      <td>2019</td>\n",
       "      <td>35.839194</td>\n",
       "      <td>0.000000</td>\n",
       "    </tr>\n",
       "  </tbody>\n",
       "</table>\n",
       "<p>164 rows × 5 columns</p>\n",
       "</div>"
      ],
      "text/plain": [
       "                  entity code  year   \n",
       "0                 Africa  NaN  2019  \\\n",
       "1                Albania  ALB  2019   \n",
       "2                Algeria  DZA  2019   \n",
       "3                 Angola  AGO  2019   \n",
       "4    Antigua and Barbuda  ATG  2019   \n",
       "..                   ...  ...   ...   \n",
       "159            Venezuela  VEN  2019   \n",
       "160              Vietnam  VNM  2019   \n",
       "161       Western Sahara  ESH  2019   \n",
       "162                Yemen  YEM  2019   \n",
       "163             Zimbabwe  ZWE  2019   \n",
       "\n",
       "     mismanaged_plastic_waste_per_capita__kg_per_year_   \n",
       "0                                            10.465928  \\\n",
       "1                                            24.239153   \n",
       "2                                            17.758995   \n",
       "3                                             7.445279   \n",
       "4                                             6.463918   \n",
       "..                                                 ...   \n",
       "159                                          23.545764   \n",
       "160                                          11.536045   \n",
       "161                                           7.068729   \n",
       "162                                          10.004012   \n",
       "163                                          35.839194   \n",
       "\n",
       "     share_of_global_plastics_emitted_to_ocean  \n",
       "0                                     7.989317  \n",
       "1                                     0.159782  \n",
       "2                                     0.589510  \n",
       "3                                     0.087804  \n",
       "4                                     0.000204  \n",
       "..                                         ...  \n",
       "159                                   0.611359  \n",
       "160                                   2.881287  \n",
       "161                                   0.003880  \n",
       "162                                   0.025729  \n",
       "163                                   0.000000  \n",
       "\n",
       "[164 rows x 5 columns]"
      ]
     },
     "execution_count": 19,
     "metadata": {},
     "output_type": "execute_result"
    }
   ],
   "source": [
    "y2019 = mpw.merge(sgp)\n",
    "y2019.columns = y2019.columns.str.replace('[\\s\\W]','_',regex=True).str.lower()\n",
    "y2019"
   ]
  },
  {
   "cell_type": "markdown",
   "id": "867931a5",
   "metadata": {},
   "source": [
    "### Insights about y2019\n",
    "What this plot shows is on the x axis shows the amomunt of plastic emitted into the ocean in the year 2019 and on the y axis shows the amount of plastic which is form of Municipal solid or(MSW). What MSW are called trash or garbage, and it is used to produce energy at waste to energy plants in the year 2019"
   ]
  },
  {
   "cell_type": "code",
   "execution_count": 20,
   "id": "4339a5b4",
   "metadata": {},
   "outputs": [
    {
     "data": {
      "image/png": "[encoded data removed]",
      "text/plain": [
       "<Figure size 640x480 with 1 Axes>"
      ]
     },
     "metadata": {},
     "output_type": "display_data"
    }
   ],
   "source": [
    "plt.title('2019 country mismanged plastice waste and share of global plastics emitted into the ocean')\n",
    "sns.scatterplot(y2019, x = 'share_of_global_plastics_emitted_to_ocean', \n",
    "                y= 'mismanaged_plastic_waste_per_capita__kg_per_year_')\n",
    "plt.show()"
   ]
  },
  {
   "cell_type": "markdown",
   "id": "8e391b91",
   "metadata": {},
   "source": [
    "# Summary"
   ]
  },
  {
   "cell_type": "code",
   "execution_count": null,
   "id": "0b1fe44d",
   "metadata": {},
   "outputs": [],
   "source": []
  }
 ],
 "metadata": {
  "kernelspec": {
   "display_name": "Python 3 (ipykernel)",
   "language": "python",
   "name": "python3"
  },
  "language_info": {
   "codemirror_mode": {
    "name": "ipython",
    "version": 3
   },
   "file_extension": ".py",
   "mimetype": "text/x-python",
   "name": "python",
   "nbconvert_exporter": "python",
   "pygments_lexer": "ipython3",
   "version": "3.10.11"
  }
 },
 "nbformat": 4,
 "nbformat_minor": 5
}
