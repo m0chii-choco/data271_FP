{
 "cells": [
  {
   "cell_type": "markdown",
   "id": "6983a757",
   "metadata": {},
   "source": [
    "# Researchy project yummy :3"
   ]
  },
  {
   "cell_type": "code",
   "execution_count": 2,
   "id": "c98e00ba",
   "metadata": {},
   "outputs": [],
   "source": [
    "import numpy as np\n",
    "import pandas as pd\n",
    "import matplotlib.pyplot as plt\n",
    "import seaborn as sns"
   ]
  },
  {
   "cell_type": "markdown",
   "id": "e014a612",
   "metadata": {},
   "source": [
    "## Data set:\n",
    "\n",
    "[Platic Pollution](https://www.kaggle.com/datasets/imtkaggleteam/plastic-pollution?select=4-+mismanaged-plastic-waste-per-capita.csv)\n",
    "[Plastic polloices](https://zenodo.org/records/4321588)\n",
    "[Plastic Np papers](https://zenodo.org/records/4321588/files/MP_Papers_Dryad.xls?download=1)\n",
    "### Question\n",
    "1. Does the country that bans plastic or levy them have an decrease in annual plastic production \n",
    "2. Is there a correlation between Mismangement plastic, and annual plastic production. \n",
    "3. Does the publish journal help decrease plastic production and plastic waste\n",
    "\n",
    "## Information \n",
    "[Marine Plastic](https://www.iucn.org/resources/issues-brief/marine-plastic-pollution#:~:text=At%20least%2014%20million%20tons,causes%20severe%20injuries%20and%20death.)\n",
    "[Video: How We Can Keep Plastics Out of Our Ocean | National Geographic](https://www.youtube.com/watch?v=HQTUWK7CM-Y&pp=ygUObWFyaW5lIHBsYXN0aWM%3D)"
   ]
  },
  {
   "cell_type": "markdown",
   "id": "85230069",
   "metadata": {},
   "source": [
    "1.1\n",
    "The I would be addressing is about Ocean pollution where each year, millions of pounds of plastic and trash enters the ocean. Some devris have sinked into the ocean and eaten by marine animals taht mistake it for food, and some are in circulating coean currents. The reason why we should be interested in this plastic pollution results in damgein to the environemt, to the health of marine aniaml life, and to economic structuers worldwide. Marine trash is surronded by all manufactured products most of them being plastic that end up ion the ocean. litteriong, storm wind, and poor waste management all contribvute to accumaltion of the debris. Common types of plastic itesm are shpping bags ,beverage bottles, cigarette butts, bottle caps, food wrappers, and fishing gear. Plastic waste is problematic as a pollutant because plastic doesn't degrade as much as other materials whcih can take multpy year to decompose."
   ]
  },
  {
   "cell_type": "markdown",
   "id": "7ec8de35",
   "metadata": {},
   "source": [
    "1.2\n",
    "The ways I would plan to address the ocean Plastic pollution is caused in three ways: public awareness and education, international cooperation and consumption, and innovative technologies for clean up. For public awareness and education, implement education campaigns to raise awareness about how plastic pollution has an impact on marine ecosystems and human health. By educating people on the importance of reducing plastic use, we will help reduce plastic going into the ocean. \n",
    "\n",
    "For international cooperation, it would be necessary to work with other countries and international organizations to develop and implement strategies for addressing ocean plastic pollution. For supporting global agreements and initiatives aimed at reducing the use of plastic. \n",
    "\n",
    "The last one is innovative technology for clean-up. It would be to research and develop innovative technologies for ocean cleanup in order to pick up plastic from the ocean in a very efficient way. For example, floating barries and autonomous vessels. When we collaborate with scientists, engineers, and entrepreneurs, we will be able to scale up those operations to solve those problems."
   ]
  },
  {
   "cell_type": "markdown",
   "id": "99eb17c6",
   "metadata": {},
   "source": [
    "1.3\n",
    "My current proposed approach that will address this problem, will be international cooperation the reason why is becasue if we get other countries adn international organization to implement staregeis is decrease platic production, and plastic going into the ocean, for example laws that ban certain plastic production, or education people about on how plastic pollution affect our ocean"
   ]
  },
  {
   "cell_type": "markdown",
   "id": "c27850c6",
   "metadata": {},
   "source": [
    "1.4\n",
    "How my anaylsis will help the consumer of my analysis, is because the analysis prodvies aims to allow consumer by offering them to understand of ocean plastic pollution and reachable steps the consumers can take to address the issues."
   ]
  }
 ],
 "metadata": {
  "kernelspec": {
   "display_name": "Python 3 (ipykernel)",
   "language": "python",
   "name": "python3"
  },
  "language_info": {
   "codemirror_mode": {
    "name": "ipython",
    "version": 3
   },
   "file_extension": ".py",
   "mimetype": "text/x-python",
   "name": "python",
   "nbconvert_exporter": "python",
   "pygments_lexer": "ipython3",
   "version": "3.10.11"
  }
 },
 "nbformat": 4,
 "nbformat_minor": 5
}
